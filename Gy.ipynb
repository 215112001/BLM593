{
  "nbformat": 4,
  "nbformat_minor": 0,
  "metadata": {
    "colab": {
      "name": "Gy.ipynb",
      "provenance": []
    },
    "kernelspec": {
      "name": "python3",
      "display_name": "Python 3"
    },
    "language_info": {
      "name": "python"
    }
  },
  "cells": [
    {
      "cell_type": "markdown",
      "source": [
        "Problem: \n",
        "1,2,3,.....,1000 sayılarından en fazla sayıda eleman alınıp yeni bir dizi oluşturulacak , oluşturulan bu dizideki sayıların hiçbir ikisinin toplamı bunların farkına bölünmeyecek.Yeni dizi max kaç elemanlı olabilir?"
      ],
      "metadata": {
        "id": "SKAkFlyhUAME"
      }
    },
    {
      "cell_type": "markdown",
      "source": [
        "Problem Çözümü: Bu sayılardan n mod 3 == 1 koşulunu sağlayan 333 tane sayıyı, yani 1, 4, 7, ..., 1000 sayılarını alalım. Bunlardan n ve m gibi herhangi ikisini aldığımızda n + m mod 3 == 2 ve n - m mod 3 == 0 olduğundan n+m toplamı n - m'e bölünmez.\n",
        "{1, 2, 3}, {4, 5, 6}, {7, 8, 9}, ...\n"
      ],
      "metadata": {
        "id": "OmS0GREeUaOe"
      }
    },
    {
      "cell_type": "code",
      "metadata": {
        "id": "LRyTM1YsOCJq"
      },
      "source": [
        "def sayikontrol(sayilar,sayi,n):\n",
        "    kontrol=False\n",
        "    for i in range(0,len(sayilar)):\n",
        "        fark=sayi-sayilar[i]\n",
        "        toplam=sayi+sayilar[i]\n",
        "        if toplam%fark==0:\n",
        "            kontrol=True\n",
        "            break\n",
        "    if kontrol==False:\n",
        "        sayilar.append(sayi)        \n",
        "        n=n+1\n",
        "    return n,sayilar"
      ],
      "execution_count": null,
      "outputs": []
    },
    {
      "cell_type": "code",
      "source": [
        "sayilar=[]\n",
        "n=0\n",
        "for sayi in range(1,999): \n",
        "    n,sayilar=sayikontrol(sayilar,sayi,n)\n",
        "print(\"Sayılar:\\n\",sayilar,\"\\nSayı miktarı:\",n) "
      ],
      "metadata": {
        "id": "L3fRHpuCUVW1",
        "outputId": "07894036-6555-4d74-8511-80afe2f2764c",
        "colab": {
          "base_uri": "https://localhost:8080/"
        }
      },
      "execution_count": null,
      "outputs": [
        {
          "output_type": "stream",
          "name": "stdout",
          "text": [
            "Sayılar:\n",
            " [1, 4, 7, 10, 13, 16, 19, 22, 25, 28, 31, 34, 37, 40, 43, 46, 49, 52, 55, 58, 61, 64, 67, 70, 73, 76, 79, 82, 85, 88, 91, 94, 97, 100, 103, 106, 109, 112, 115, 118, 121, 124, 127, 130, 133, 136, 139, 142, 145, 148, 151, 154, 157, 160, 163, 166, 169, 172, 175, 178, 181, 184, 187, 190, 193, 196, 199, 202, 205, 208, 211, 214, 217, 220, 223, 226, 229, 232, 235, 238, 241, 244, 247, 250, 253, 256, 259, 262, 265, 268, 271, 274, 277, 280, 283, 286, 289, 292, 295, 298, 301, 304, 307, 310, 313, 316, 319, 322, 325, 328, 331, 334, 337, 340, 343, 346, 349, 352, 355, 358, 361, 364, 367, 370, 373, 376, 379, 382, 385, 388, 391, 394, 397, 400, 403, 406, 409, 412, 415, 418, 421, 424, 427, 430, 433, 436, 439, 442, 445, 448, 451, 454, 457, 460, 463, 466, 469, 472, 475, 478, 481, 484, 487, 490, 493, 496, 499, 502, 505, 508, 511, 514, 517, 520, 523, 526, 529, 532, 535, 538, 541, 544, 547, 550, 553, 556, 559, 562, 565, 568, 571, 574, 577, 580, 583, 586, 589, 592, 595, 598, 601, 604, 607, 610, 613, 616, 619, 622, 625, 628, 631, 634, 637, 640, 643, 646, 649, 652, 655, 658, 661, 664, 667, 670, 673, 676, 679, 682, 685, 688, 691, 694, 697, 700, 703, 706, 709, 712, 715, 718, 721, 724, 727, 730, 733, 736, 739, 742, 745, 748, 751, 754, 757, 760, 763, 766, 769, 772, 775, 778, 781, 784, 787, 790, 793, 796, 799, 802, 805, 808, 811, 814, 817, 820, 823, 826, 829, 832, 835, 838, 841, 844, 847, 850, 853, 856, 859, 862, 865, 868, 871, 874, 877, 880, 883, 886, 889, 892, 895, 898, 901, 904, 907, 910, 913, 916, 919, 922, 925, 928, 931, 934, 937, 940, 943, 946, 949, 952, 955, 958, 961, 964, 967, 970, 973, 976, 979, 982, 985, 988, 991, 994, 997] \n",
            "Sayı miktarı: 333\n"
          ]
        }
      ]
    },
    {
      "cell_type": "markdown",
      "source": [
        ""
      ],
      "metadata": {
        "id": "4HGzvlzGT_c3"
      }
    }
  ]
}
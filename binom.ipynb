{
  "nbformat": 4,
  "nbformat_minor": 0,
  "metadata": {
    "colab": {
      "name": "binom.ipynb",
      "provenance": []
    },
    "kernelspec": {
      "name": "python3",
      "display_name": "Python 3"
    },
    "language_info": {
      "name": "python"
    }
  },
  "cells": [
    {
      "cell_type": "markdown",
      "source": [
        "Bir mailin spam olma olasılığı %47.3 ise gönderilen 100 adet mailden kaçı spam olur?"
      ],
      "metadata": {
        "id": "nUShhSF0Ae9H"
      }
    },
    {
      "cell_type": "code",
      "source": [
        "import scipy.stats as stats\n",
        "hund_mails = stats.binom.rvs(n = 100, p = 0.473)\n",
        "print(hund_mails)"
      ],
      "metadata": {
        "colab": {
          "base_uri": "https://localhost:8080/"
        },
        "id": "-cmcjR2UAdkb",
        "outputId": "532d003a-3c19-4c21-ad7c-47910144fa3a"
      },
      "execution_count": null,
      "outputs": [
        {
          "output_type": "stream",
          "name": "stdout",
          "text": [
            "43\n"
          ]
        }
      ]
    },
    {
      "cell_type": "markdown",
      "source": [
        "Göndereceğimiz 100 mailden 30 tanesinin spam olma olasılığı nedir?\n",
        "\n",
        "Kesikli rassal değişkenin bir noktada aldığı değeri hesaplamak için olasılık kütle fonksiyonunu (pmf) kullanırız."
      ],
      "metadata": {
        "id": "BN8Gd9BACIQi"
      }
    },
    {
      "cell_type": "code",
      "source": [
        "stats.binom.pmf(k = 30, n = 100, p = 0.473)"
      ],
      "metadata": {
        "colab": {
          "base_uri": "https://localhost:8080/"
        },
        "id": "TkneiHvwCJgQ",
        "outputId": "c0424170-7311-4464-dfcb-83087f0e6b19"
      },
      "execution_count": null,
      "outputs": [
        {
          "output_type": "execute_result",
          "data": {
            "text/plain": [
              "0.00017398661193644704"
            ]
          },
          "metadata": {},
          "execution_count": 3
        }
      ]
    },
    {
      "cell_type": "markdown",
      "source": [
        "Stats kütüphanesindeki pmf() fonksiyonu binom dağılımı için üç parametre kullanır.\n",
        "\n",
        "k: Başarılı deney sayısı\n",
        "n: Deneyin tekrar sayısı\n",
        "p: Başarı oranı"
      ],
      "metadata": {
        "id": "aeJRCSUNCtsQ"
      }
    },
    {
      "cell_type": "markdown",
      "source": [
        "Peki, en fazla 50 mailin spam olma olasılığı nedir?\n",
        "\n",
        "Kesikli rassal değişkenin, belli bir değer değere eşit veya az olma olasılığını hesaplamak için kümülatif dağılım fonksiyonu (cdf) kullanılır."
      ],
      "metadata": {
        "id": "PCFWbBzKDXTt"
      }
    },
    {
      "cell_type": "code",
      "source": [
        "stats.binom.cdf(k = 50, n = 100, p = 0.473)"
      ],
      "metadata": {
        "colab": {
          "base_uri": "https://localhost:8080/"
        },
        "id": "Eaxo93wyDYxL",
        "outputId": "43847380-6cea-4462-9941-9bf183343acf"
      },
      "execution_count": null,
      "outputs": [
        {
          "output_type": "execute_result",
          "data": {
            "text/plain": [
              "0.7394605934272087"
            ]
          },
          "metadata": {},
          "execution_count": 4
        }
      ]
    },
    {
      "cell_type": "markdown",
      "source": [
        "Stats kütüphanesindeki cdf() fonksiyonu binom dağılımı için üç parametre kullanır.\n",
        "\n",
        "k: Başarılı minimum deney sayısı\n",
        "n: Deneyin tekrar sayısı\n",
        "p: Başarı oranı"
      ],
      "metadata": {
        "id": "RC1Yf64bDfl0"
      }
    },
    {
      "cell_type": "code",
      "source": [
        "binom_samples_thousand = stats.binom.rvs(n = 100, p = 0.473, size = 1000)\n",
        "import matplotlib.pyplot as plt \n",
        " \n",
        "fig, ax = plt.subplots(figsize = (10, 6))\n",
        "ax.hist(binom_samples_thousand, density = True, color = \"skyblue\")\n",
        "ax.set_title(\"Binom Olasılık Dağılımı\")\n",
        "ax.set_xlabel(\"Mail Sayısı\")\n",
        "ax.set_ylabel(\"Olasılık\")\n",
        "plt.show()"
      ],
      "metadata": {
        "colab": {
          "base_uri": "https://localhost:8080/",
          "height": 404
        },
        "id": "wlyVpG3frOiY",
        "outputId": "2966a6a5-2ff9-46b0-8b49-0bbd7050b414"
      },
      "execution_count": null,
      "outputs": [
        {
          "output_type": "display_data",
          "data": {
            "text/plain": [
              "<Figure size 720x432 with 1 Axes>"
            ],
            "image/png": "[encoded data removed]"
          },
          "metadata": {
            "needs_background": "light"
          }
        }
      ]
    }
  ]
}
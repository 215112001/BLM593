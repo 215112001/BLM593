{
  "nbformat": 4,
  "nbformat_minor": 0,
  "metadata": {
    "colab": {
      "name": "kombinasyon.ipynb",
      "provenance": [],
      "collapsed_sections": []
    },
    "kernelspec": {
      "name": "python3",
      "display_name": "Python 3"
    }
  },
  "cells": [
    {
      "cell_type": "markdown",
      "metadata": {
        "id": "view-in-github"
      },
      "source": [
        "<a href=\"https://colab.research.google.com/github/gmihran/AyrikSistemlerIleriOlasilik/blob/master/GuvercinYuvasi.ipynb\" target=\"_parent\"><img src=\"https://colab.research.google.com/assets/colab-badge.svg\" alt=\"Open In Colab\"/></a>"
      ]
    },
    {
      "cell_type": "markdown",
      "source": [
        "Kullanıcının gireceği toplam ayakkabı sayısı arasından yine kullanıcının gireceği adet kadar ayakkabı kaç farklı şekilde seçilebilir?\n",
        "\n"
      ],
      "metadata": {
        "id": "xHoh9hHP2OaX"
      }
    },
    {
      "cell_type": "markdown",
      "source": [
        "Sonuç=(Toplam Ayakkabı Sayısı)!/(Toplam ayakkabı Sayısı - Seçilecek ayakkabı Sayısı)! * (Seçilecek ayakkabı Sayısı)!"
      ],
      "metadata": {
        "id": "pQ8MxZSL2aWN"
      }
    },
    {
      "cell_type": "code",
      "source": [
        "def faktoriyelHesapla(i):\n",
        "    \n",
        "    if i==1:       \n",
        "        return 1\n",
        "    \n",
        "    else: \n",
        "        return i * faktoriyelHesapla(i-1)\n",
        "    \n",
        "def kombinasyonHesapla(j,k):\n",
        "    \n",
        "    if (j<k):\n",
        "        print(\"1. Sayının 2. Sayıdan büyük yada eşit olması gerekli. Verdiğiniz sayıların çözümü yoktur!\")\n",
        "   \n",
        "    elif(j==k):\n",
        "        print(\"1\")\n",
        "    \n",
        "    elif(j>k):        \n",
        "        s=1\n",
        "        s= faktoriyelHesapla(j) #n faktöriyel        \n",
        "        l=1\n",
        "        l= faktoriyelHesapla(k) #m faktöriyel       \n",
        "        f=1\n",
        "        f= faktoriyelHesapla(j-k) #n-m faktöriyel      \n",
        "        w=s/(l*f)\n",
        "        return w\n",
        "      \n",
        " \n",
        "Toplam_Sayi = int(input(\"Toplam Ayakkabı Sayısını Giriniz: \"))\n",
        " \n",
        "Secilecek_Sayi = int(input(\"Seçilecek Ayakkabı Sayısını Giriniz: \")) \n",
        " \n",
        "print(\"\\nSonuç:\",int(kombinasyonHesapla(Toplam_Sayi,Secilecek_Sayi)), \"farklı şekilde seçilebilir.\" )"
      ],
      "metadata": {
        "colab": {
          "base_uri": "https://localhost:8080/"
        },
        "id": "irKcWqrf2vlU",
        "outputId": "5d5ca4cb-f32d-48fe-a81e-367a189dfb91"
      },
      "execution_count": null,
      "outputs": [
        {
          "output_type": "stream",
          "name": "stdout",
          "text": [
            "Toplam Ayakkabı Sayısını Giriniz: 7\n",
            "Seçilecek Ayakkabı Sayısını Giriniz: 3\n",
            "\n",
            "Sonuç: 35 farklı şekilde seçilebilir.\n"
          ]
        }
      ]
    }
  ]
}
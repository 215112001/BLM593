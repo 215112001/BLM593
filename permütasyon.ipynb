{
  "nbformat": 4,
  "nbformat_minor": 0,
  "metadata": {
    "colab": {
      "name": "permütasyon.ipynb",
      "provenance": []
    },
    "kernelspec": {
      "display_name": "Python 3",
      "name": "python3"
    },
    "language_info": {
      "name": "python"
    },
    "accelerator": "GPU"
  },
  "cells": [
    {
      "cell_type": "markdown",
      "source": [
        "\n",
        "Girilen sözcükdeki harfleri kullanarak anlamlı anlamsız kaç farklı sözcük türetilebilir?(tekrarlı permütasyon)\n"
      ],
      "metadata": {
        "id": "lIuQCLCU22rl"
      }
    },
    {
      "cell_type": "code",
      "metadata": {
        "id": "U5toRLqvbBmh"
      },
      "source": [
        "#rekürsif faktöriyel hesabı\n",
        "def faktoriyel(sayi):\n",
        "    if sayi==1:\n",
        "        return 1\n",
        "    else:\n",
        "        return sayi * faktoriyel(sayi-1) "
      ],
      "execution_count": null,
      "outputs": []
    },
    {
      "cell_type": "markdown",
      "source": [
        "kendisine gönderilen sayı değeri 1 değerine eşit olana kadar sayının 1 eksiğini alarak yine kendisine gönderdiğinden fonksiyon kendini yinelemektedir. Burada sayi ile 1 arasındaki değerlerin birbirleri ile çarpımı bulunarak fonksiyona gönderilen sayi değerinin faktöriyel sonucu hesaplanmaktadır."
      ],
      "metadata": {
        "id": "hmlxMecf3aDJ"
      }
    },
    {
      "cell_type": "code",
      "source": [
        "def permutasyon(kelime):\n",
        "    harfler=[]\n",
        "    harf=[]\n",
        "    miktar=[]\n",
        "    bolum=1\n",
        "    for h in kelime:\n",
        "        harfler.append(h)\n",
        "    harfsayisi=len(harfler)\n",
        "    for h in harfler:\n",
        "        if not h in harf:\n",
        "            harf.append(h)\n",
        "            miktar.append(harfler.count(h))\n",
        "    for i in miktar:\n",
        "        bolum=bolum*faktoriyel(i)\n",
        "    return int(faktoriyel(harfsayisi)/bolum)"
      ],
      "metadata": {
        "id": "0okk447S3igR"
      },
      "execution_count": null,
      "outputs": []
    },
    {
      "cell_type": "markdown",
      "source": [
        "kendisine gönderilen kelimenin içerisinde yer alan harfleri ve harflerin tekrar sayılarını bulmaktadır.\n",
        "\n",
        "Kelimenin içerisindeki harflerin tekrar sayılarını faktoriyel(sayi) fonksiyona göndererek faktöriyellerini hesaplatıp daha sonra faktöriyel sonuçlarının çarpımını bolum değişkeninde tutmaktadır.\n",
        "\n",
        "Kelimenin içerisinde yer alan tüm harflerin sayısının faktöriyelini faktoriyel(sayi) fonksiyonu ile hesaplatıp bolum değişkenine bölerek çıkan sonucu geri döndürmektedir."
      ],
      "metadata": {
        "id": "4E9zGceu3nYx"
      }
    },
    {
      "cell_type": "code",
      "source": [
        "kelime=\"refref\"\n",
        "print(permutasyon(kelime))"
      ],
      "metadata": {
        "colab": {
          "base_uri": "https://localhost:8080/"
        },
        "id": "nHkgFU413tQR",
        "outputId": "9e85dc0c-72e2-4671-b6a2-9662412c2b68"
      },
      "execution_count": null,
      "outputs": [
        {
          "output_type": "stream",
          "name": "stdout",
          "text": [
            "90\n"
          ]
        }
      ]
    }
  ]
}